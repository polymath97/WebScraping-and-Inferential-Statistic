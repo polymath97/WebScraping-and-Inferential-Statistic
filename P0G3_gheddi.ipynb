{
 "cells": [
  {
   "cell_type": "markdown",
   "metadata": {},
   "source": [
    "Name : Gheddi \n",
    "Batch : RMT - 022\n",
    "Objective : this program does web scraping on Tokopedia website and perform statistic from the result"
   ]
  },
  {
   "cell_type": "markdown",
   "metadata": {},
   "source": [
    "A. Web Scraping"
   ]
  },
  {
   "cell_type": "code",
   "execution_count": 96,
   "metadata": {},
   "outputs": [],
   "source": [
    "from bs4 import BeautifulSoup\n",
    "from selenium import webdriver\n",
    "import pandas as pd\n",
    "import numpy as np\n",
    "import time\n",
    "\n",
    "driver = webdriver.Chrome()\n",
    "\n",
    "name = []\n",
    "price = []\n",
    "location = []\n",
    "shop = []\n",
    "rating = []\n",
    "amount = []\n",
    "# <span class='prd_link-shop-name css-1kdc32b flip'>\n",
    "\n",
    "for i in range(1,11):\n",
    "    driver.get('https://www.tokopedia.com/search?navsource=&page={}&q=seblak&srp_component_id=02.01.00.00&srp_page_id=&srp_page_title=&st='.format(i))\n",
    "    time.sleep(5)\n",
    "    html = driver.page_source\n",
    "    soup = BeautifulSoup(html, \"html.parser\")\n",
    "\n",
    "    # product section contains 5-10 product card\n",
    "    # product labels, contains only name, price, rating, etc\n",
    "\n",
    "    for sections in soup.find_all('div',class_ =\"css-jza1fo\"):\n",
    "        \n",
    "        for labels in sections.find_all('a', class_='pcv3__info-content css-gwkf0u'):\n",
    "            name.append(labels.find('div', class_='prd_link-product-name css-3um8ox').get_text())\n",
    "            price.append(labels.find('div', class_='prd_link-product-price css-1ksb19c').get_text())\n",
    "\n",
    "            if labels.find('span', class_ = 'prd_link-shop-loc css-1kdc32b flip'):\n",
    "                location.append(labels.find('span', class_ = 'prd_link-shop-loc css-1kdc32b flip').get_text())\n",
    "            else:\n",
    "                location.append(np.nan)\n",
    "\n",
    "            if labels.find('span', class_ = 'prd_link-shop-loc css-1kdc32b flip'):\n",
    "                shop.append(labels.find('span', class_ = 'prd_link-shop-name css-1kdc32b flip').get_text())\n",
    "            else:\n",
    "                shop.append(np.nan)\n",
    "\n",
    "            if labels.find('span', class_ = 'prd_rating-average-text css-t70v7i'):\n",
    "                rating.append(labels.find('span', class_ = 'prd_rating-average-text css-t70v7i').get_text())\n",
    "            else:\n",
    "                rating.append(np.nan)\n",
    "\n",
    "            if labels.find('span', class_ = 'prd_label-integrity css-1duhs3e'):\n",
    "                amount.append(labels.find('span', class_ = 'prd_label-integrity css-1duhs3e').get_text())\n",
    "            else:\n",
    "                amount.append(np.nan)\n",
    "\n",
    "df = pd.DataFrame()\n",
    "df['Product Name'] = name\n",
    "df['Price'] = price\n",
    "df['Shop Location'] = location\n",
    "df['Shop Name'] = shop\n",
    "df['Product Rating'] = rating\n",
    "df['Amount Sold'] = amount        "
   ]
  },
  {
   "cell_type": "markdown",
   "metadata": {},
   "source": [
    "B. Data Preparation"
   ]
  },
  {
   "cell_type": "code",
   "execution_count": 143,
   "metadata": {},
   "outputs": [
    {
     "data": {
      "text/html": [
       "<div>\n",
       "<style scoped>\n",
       "    .dataframe tbody tr th:only-of-type {\n",
       "        vertical-align: middle;\n",
       "    }\n",
       "\n",
       "    .dataframe tbody tr th {\n",
       "        vertical-align: top;\n",
       "    }\n",
       "\n",
       "    .dataframe thead th {\n",
       "        text-align: right;\n",
       "    }\n",
       "</style>\n",
       "<table border=\"1\" class=\"dataframe\">\n",
       "  <thead>\n",
       "    <tr style=\"text-align: right;\">\n",
       "      <th></th>\n",
       "      <th>Product Name</th>\n",
       "      <th>Price</th>\n",
       "      <th>Shop Location</th>\n",
       "      <th>Shop Name</th>\n",
       "      <th>Product Rating</th>\n",
       "      <th>Amount Sold</th>\n",
       "    </tr>\n",
       "  </thead>\n",
       "  <tbody>\n",
       "    <tr>\n",
       "      <th>162</th>\n",
       "      <td>U Mart - Kerupuk Merah Gado Gado/Bubur Ayam 1 ...</td>\n",
       "      <td>19000</td>\n",
       "      <td>Jakarta Selatan</td>\n",
       "      <td>U Mart Indonesia</td>\n",
       "      <td>4.9</td>\n",
       "      <td>70</td>\n",
       "    </tr>\n",
       "    <tr>\n",
       "      <th>333</th>\n",
       "      <td>Seblak Mercon Khas Tasik 150gr Pedas Jelotot</td>\n",
       "      <td>9000</td>\n",
       "      <td>Tangerang</td>\n",
       "      <td>Al Dien Store 313</td>\n",
       "      <td>4.8</td>\n",
       "      <td>50</td>\n",
       "    </tr>\n",
       "    <tr>\n",
       "      <th>483</th>\n",
       "      <td>Sukro pilus Cikur Sari rasa 1 renceng 10bks - ...</td>\n",
       "      <td>6000</td>\n",
       "      <td>Kab. Bekasi</td>\n",
       "      <td>Distributor Cuanki dan Seblak</td>\n",
       "      <td>4.5</td>\n",
       "      <td>70</td>\n",
       "    </tr>\n",
       "    <tr>\n",
       "      <th>53</th>\n",
       "      <td>Kerupuk Seblak Mentah/ Krupuk Seblak Viral/ Ke...</td>\n",
       "      <td>112000</td>\n",
       "      <td>Jakarta Pusat</td>\n",
       "      <td>Makanan Tradisi Id</td>\n",
       "      <td>5.0</td>\n",
       "      <td>11</td>\n",
       "    </tr>\n",
       "  </tbody>\n",
       "</table>\n",
       "</div>"
      ],
      "text/plain": [
       "                                          Product Name   Price  \\\n",
       "162  U Mart - Kerupuk Merah Gado Gado/Bubur Ayam 1 ...   19000   \n",
       "333       Seblak Mercon Khas Tasik 150gr Pedas Jelotot    9000   \n",
       "483  Sukro pilus Cikur Sari rasa 1 renceng 10bks - ...    6000   \n",
       "53   Kerupuk Seblak Mentah/ Krupuk Seblak Viral/ Ke...  112000   \n",
       "\n",
       "       Shop Location                      Shop Name  Product Rating  \\\n",
       "162  Jakarta Selatan               U Mart Indonesia             4.9   \n",
       "333        Tangerang              Al Dien Store 313             4.8   \n",
       "483      Kab. Bekasi  Distributor Cuanki dan Seblak             4.5   \n",
       "53     Jakarta Pusat             Makanan Tradisi Id             5.0   \n",
       "\n",
       "     Amount Sold  \n",
       "162           70  \n",
       "333           50  \n",
       "483           70  \n",
       "53            11  "
      ]
     },
     "execution_count": 143,
     "metadata": {},
     "output_type": "execute_result"
    }
   ],
   "source": [
    "# data exploration\n",
    "df.sample(4)"
   ]
  },
  {
   "cell_type": "code",
   "execution_count": 98,
   "metadata": {},
   "outputs": [
    {
     "data": {
      "text/plain": [
       "Product Name       0\n",
       "Price              0\n",
       "Shop Location      0\n",
       "Shop Name          0\n",
       "Product Rating    45\n",
       "Amount Sold       36\n",
       "dtype: int64"
      ]
     },
     "execution_count": 98,
     "metadata": {},
     "output_type": "execute_result"
    }
   ],
   "source": [
    "# check for the amount of missing value\n",
    "df.isna().sum()"
   ]
  },
  {
   "cell_type": "code",
   "execution_count": 99,
   "metadata": {},
   "outputs": [],
   "source": [
    "# DATA PREPROCESSING\n",
    "\n",
    "# remove missing value\n",
    "df.dropna(subset = ['Shop Location', 'Shop Name', 'Product Rating', 'Amount Sold'], inplace=True)\n",
    "\n",
    "# convert price column to integer\n",
    "remove_symbol = lambda x: (x.replace('Rp', ''))\n",
    "remove_dot = lambda x: (x.replace('.', ''))\n",
    "\n",
    "df['Price'] = df['Price'].apply(remove_symbol)\n",
    "df['Price'] = df['Price'].apply(remove_dot)\n",
    "df['Price'] = df['Price'].astype(int)\n",
    "\n",
    "# convert product rating to float\n",
    "df['Product Rating'] = df['Product Rating'].astype(float)\n",
    "\n",
    "# convert amount sold column to integer\n",
    "remove_terjual = lambda x: (x.replace('Terjual', ''))\n",
    "remove_space = lambda x: (x.replace(' ', ''))\n",
    "remove_plus = lambda x: (x.replace('+', ''))\n",
    "alter_rb = lambda x: (x.replace('rb', '000'))\n",
    "df['Amount Sold'] = df['Amount Sold'].apply(remove_terjual)\n",
    "df['Amount Sold'] = df['Amount Sold'].apply(alter_rb)\n",
    "df['Amount Sold'] = df['Amount Sold'].apply(remove_plus)\n",
    "df['Amount Sold'] = df['Amount Sold'].apply(remove_space)\n",
    "df['Amount Sold'] = df['Amount Sold'].astype(int)"
   ]
  },
  {
   "cell_type": "markdown",
   "metadata": {},
   "source": [
    "C. Business Understanding\n",
    "\n",
    "Specific --> Increase the number of customer based on better price offering\n",
    "\n",
    "Measurable --> increase order by 200 item monthly with better price\n",
    "\n",
    "Achievable --> the means of finding better price is achievable through statistical method\n",
    "\n",
    "Relevant --> With better price offering will attract more customer\n",
    "\n",
    "Time-bound --> Researching for better price should take less than a month"
   ]
  },
  {
   "cell_type": "markdown",
   "metadata": {},
   "source": [
    "D. Analysis"
   ]
  },
  {
   "cell_type": "code",
   "execution_count": 110,
   "metadata": {},
   "outputs": [
    {
     "data": {
      "text/plain": [
       "<Axes: >"
      ]
     },
     "execution_count": 110,
     "metadata": {},
     "output_type": "execute_result"
    },
    {
     "data": {
      "image/png": "[encoded data removed]",
      "text/plain": [
       "<Figure size 1000x400 with 2 Axes>"
      ]
     },
     "metadata": {},
     "output_type": "display_data"
    }
   ],
   "source": [
    "# Question 1\n",
    "# mean, median, std, skew, kurtosis of price column\n",
    "# describe outlier in price column if exist\n",
    "\n",
    "df['Price'].info()\n",
    "df['Price'].std()\n",
    "df['Price'].skew()\n",
    "df['Price'].kurtosis()\n",
    "\n",
    "# displaying outlier with box-plot\n",
    "import matplotlib.pyplot as plt\n",
    "\n",
    "fig, ax = plt.subplots(ncols=2,figsize=(10,4))\n",
    "\n",
    "df['Price'].plot(kind='hist',bins=20,ax=ax[0])\n",
    "df['Price'].plot(kind='box',ax=ax[1])"
   ]
  },
  {
   "cell_type": "code",
   "execution_count": 112,
   "metadata": {},
   "outputs": [
    {
     "data": {
      "text/plain": [
       "<Axes: >"
      ]
     },
     "execution_count": 112,
     "metadata": {},
     "output_type": "execute_result"
    },
    {
     "data": {
      "image/png": "[encoded data removed]",
      "text/plain": [
       "<Figure size 1000x400 with 2 Axes>"
      ]
     },
     "metadata": {},
     "output_type": "display_data"
    }
   ],
   "source": [
    "# defining the interquartile range\n",
    "q1 = df['Price'].quantile(0.25)\n",
    "q3 = df['Price'].quantile(0.75)\n",
    "iqr = q3 - q1\n",
    "lower_bound = q1 - 1.5 * iqr\n",
    "upper_bound = q3 + 1.5 * iqr\n",
    "\n",
    "# Membuat dataframe baru yang tidak memiliki outlier\n",
    "df_filtered = df[(df['Price'] >= lower_bound) & (df['Price'] <= upper_bound)]\n",
    "\n",
    "# displaying new dataframe without outlier\n",
    "fig, ax = plt.subplots(ncols=2,figsize=(10,4))\n",
    "\n",
    "df_filtered['Price'].plot(kind='hist',bins=20,ax=ax[0])\n",
    "df_filtered['Price'].plot(kind='box',ax=ax[1])"
   ]
  },
  {
   "cell_type": "code",
   "execution_count": 125,
   "metadata": {},
   "outputs": [
    {
     "name": "stdout",
     "output_type": "stream",
     "text": [
      "4607288.66531165 5102294.159783461\n"
     ]
    }
   ],
   "source": [
    "# Question 2\n",
    "# whats the earning potential of selling seblak? use the price and amount column\n",
    "\n",
    "import numpy as np\n",
    "import scipy.stats as st\n",
    "\n",
    "# Calculate confidence Intervals using the Normal Distribution\n",
    "# This approach is used to calculate confidence Intervals for the large dataset where the sample size > 30\n",
    "\n",
    "lower_price, higher_price =st.norm.interval(0.95, loc=np.mean(df_filtered['Price']), scale=st.sem(df_filtered['Price']))\n",
    "mean_amt_sold = df_filtered['Amount Sold'].mean()  # 346.15  #df_filtered['Amount Sold'].mean()  # 346.15  \n",
    "expected_minimum_earning = lower_price * mean_amt_sold\n",
    "expected_maximum_earning = higher_price * mean_amt_sold\n",
    "\n",
    "# print out the expected minimum and maximum earning\n",
    "print(expected_minimum_earning, expected_maximum_earning)\n",
    "            "
   ]
  },
  {
   "cell_type": "code",
   "execution_count": null,
   "metadata": {},
   "outputs": [],
   "source": [
    "# Question 3\n",
    "# with confidence interval >=95%, \n",
    "# perform hypothesis testing to check whether the prices within jabodetabek are different from \n",
    "# outside jabodetabek\n",
    "# h0 price is not different\n",
    "# toko jabodetabek is group A, outside is group B. "
   ]
  },
  {
   "cell_type": "code",
   "execution_count": 141,
   "metadata": {},
   "outputs": [
    {
     "name": "stdout",
     "output_type": "stream",
     "text": [
      "P-value: 0.8999058501582072\n"
     ]
    },
    {
     "name": "stderr",
     "output_type": "stream",
     "text": [
      "/var/folders/7d/xp2y06297y75ft442v1cl8dc0000gn/T/ipykernel_2939/680140332.py:18: SettingWithCopyWarning: \n",
      "A value is trying to be set on a copy of a slice from a DataFrame.\n",
      "Try using .loc[row_indexer,col_indexer] = value instead\n",
      "\n",
      "See the caveats in the documentation: https://pandas.pydata.org/pandas-docs/stable/user_guide/indexing.html#returning-a-view-versus-a-copy\n",
      "  df_filtered['Price Category'] = df_filtered.apply(grouper, axis=1)\n"
     ]
    }
   ],
   "source": [
    "# Question 4\n",
    "# do people like to purchase cheaper product?\n",
    "# Answer with correlation test\n",
    "# find median, group the price to 2 category where median is the middle price\n",
    "# find the 2 group relation with amount sold\n",
    "# get correlation value and its p-value\n",
    "\n",
    "from scipy import stats\n",
    "\n",
    "df_filtered['Price'].median() # median of price column is Rp. 13.000\n",
    "\n",
    "def grouper(row):\n",
    "    if row['Price'] <= 13000:\n",
    "        val = 'CHEAP'\n",
    "    else:\n",
    "        val = 'EXPENSIVE'\n",
    "    return val\n",
    "\n",
    "df_filtered['Price Category'] = df_filtered.apply(grouper, axis=1)\n",
    "\n",
    "cheap = df_filtered['Amount Sold'][df_filtered['Price Category']=='CHEAP']\n",
    "expensive = df_filtered['Amount Sold'][df_filtered['Price Category']=='EXPENSIVE']\n",
    "res = stats.f_oneway(cheap, expensive)\n",
    "print('P-value:',res.pvalue)\n",
    "# with P-value is as big as 89% our null hypothesis is not rejected \n",
    "# therefore cheap product doesnt entice customer"
   ]
  }
 ],
 "metadata": {
  "kernelspec": {
   "display_name": "base",
   "language": "python",
   "name": "python3"
  },
  "language_info": {
   "codemirror_mode": {
    "name": "ipython",
    "version": 3
   },
   "file_extension": ".py",
   "mimetype": "text/x-python",
   "name": "python",
   "nbconvert_exporter": "python",
   "pygments_lexer": "ipython3",
   "version": "3.9.17"
  },
  "orig_nbformat": 4
 },
 "nbformat": 4,
 "nbformat_minor": 2
}
